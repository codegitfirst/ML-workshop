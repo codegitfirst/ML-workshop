{
  "metadata": {
    "kernelspec": {
      "language": "python",
      "display_name": "Python 3",
      "name": "python3"
    },
    "language_info": {
      "name": "python",
      "version": "3.10.13",
      "mimetype": "text/x-python",
      "codemirror_mode": {
        "name": "ipython",
        "version": 3
      },
      "pygments_lexer": "ipython3",
      "nbconvert_exporter": "python",
      "file_extension": ".py"
    },
    "kaggle": {
      "accelerator": "none",
      "dataSources": [
        {
          "sourceId": 8932374,
          "sourceType": "datasetVersion",
          "datasetId": 5373642
        }
      ],
      "dockerImageVersionId": 30746,
      "isInternetEnabled": true,
      "language": "python",
      "sourceType": "notebook",
      "isGpuEnabled": false
    },
    "colab": {
      "name": "Mental Health Depression Analysis",
      "provenance": [],
      "include_colab_link": true
    }
  },
  "nbformat_minor": 0,
  "nbformat": 4,
  "cells": [
    {
      "cell_type": "markdown",
      "metadata": {
        "id": "view-in-github",
        "colab_type": "text"
      },
      "source": [
        "<a href=\"https://colab.research.google.com/github/codegitfirst/ML-workshop/blob/main/Mental_Health_Depression_Analysis.ipynb\" target=\"_parent\"><img src=\"https://colab.research.google.com/assets/colab-badge.svg\" alt=\"Open In Colab\"/></a>"
      ]
    },
    {
      "source": [
        "\n",
        "# IMPORTANT: RUN THIS CELL IN ORDER TO IMPORT YOUR KAGGLE DATA SOURCES\n",
        "# TO THE CORRECT LOCATION (/kaggle/input) IN YOUR NOTEBOOK,\n",
        "# THEN FEEL FREE TO DELETE THIS CELL.\n",
        "# NOTE: THIS NOTEBOOK ENVIRONMENT DIFFERS FROM KAGGLE'S PYTHON\n",
        "# ENVIRONMENT SO THERE MAY BE MISSING LIBRARIES USED BY YOUR\n",
        "# NOTEBOOK.\n",
        "\n",
        "import os\n",
        "import sys\n",
        "from tempfile import NamedTemporaryFile\n",
        "from urllib.request import urlopen\n",
        "from urllib.parse import unquote, urlparse\n",
        "from urllib.error import HTTPError\n",
        "from zipfile import ZipFile\n",
        "import tarfile\n",
        "import shutil\n",
        "\n",
        "CHUNK_SIZE = 40960\n",
        "DATA_SOURCE_MAPPING = 'mental-health-depression-disorder-data:https%3A%2F%2Fstorage.googleapis.com%2Fkaggle-data-sets%2F5373642%2F8932374%2Fbundle%2Farchive.zip%3FX-Goog-Algorithm%3DGOOG4-RSA-SHA256%26X-Goog-Credential%3Dgcp-kaggle-com%2540kaggle-161607.iam.gserviceaccount.com%252F20240729%252Fauto%252Fstorage%252Fgoog4_request%26X-Goog-Date%3D20240729T080018Z%26X-Goog-Expires%3D259200%26X-Goog-SignedHeaders%3Dhost%26X-Goog-Signature%3D60320741a0a25c08773c3b475008f746d5ac3f788799ced06070343371861d7b166d64328664e424e32bfb785514199c2e4a21ef013d4564d9f87511640a6f70d165f33213ac81ab5787938322c7c6c099e8b5f5000e5e1f2d395a8ef83cac248a6dda809305eb4e2366032c272e372e87c420a15ae6a3e41d81dccdc48d68f39c36c1838cbc00d4f7ed6dcecd240f340b00971e9f9ecd5a2a561081a046f987b974d3ad1a907e8913fd04a154f3da7fdc89a48397a7590c4d008fff71eeab2f62cef17a1409bf388d23955bd5b451b1ed7f5c34068500cad9f4d0e68fe4cca6a322d7ac5ece88e6a1666e7712611237ba74fae20c45b439cd7d1976eba2a603'\n",
        "\n",
        "KAGGLE_INPUT_PATH='/kaggle/input'\n",
        "KAGGLE_WORKING_PATH='/kaggle/working'\n",
        "KAGGLE_SYMLINK='kaggle'\n",
        "\n",
        "!umount /kaggle/input/ 2> /dev/null\n",
        "shutil.rmtree('/kaggle/input', ignore_errors=True)\n",
        "os.makedirs(KAGGLE_INPUT_PATH, 0o777, exist_ok=True)\n",
        "os.makedirs(KAGGLE_WORKING_PATH, 0o777, exist_ok=True)\n",
        "\n",
        "try:\n",
        "  os.symlink(KAGGLE_INPUT_PATH, os.path.join(\"..\", 'input'), target_is_directory=True)\n",
        "except FileExistsError:\n",
        "  pass\n",
        "try:\n",
        "  os.symlink(KAGGLE_WORKING_PATH, os.path.join(\"..\", 'working'), target_is_directory=True)\n",
        "except FileExistsError:\n",
        "  pass\n",
        "\n",
        "for data_source_mapping in DATA_SOURCE_MAPPING.split(','):\n",
        "    directory, download_url_encoded = data_source_mapping.split(':')\n",
        "    download_url = unquote(download_url_encoded)\n",
        "    filename = urlparse(download_url).path\n",
        "    destination_path = os.path.join(KAGGLE_INPUT_PATH, directory)\n",
        "    try:\n",
        "        with urlopen(download_url) as fileres, NamedTemporaryFile() as tfile:\n",
        "            total_length = fileres.headers['content-length']\n",
        "            print(f'Downloading {directory}, {total_length} bytes compressed')\n",
        "            dl = 0\n",
        "            data = fileres.read(CHUNK_SIZE)\n",
        "            while len(data) > 0:\n",
        "                dl += len(data)\n",
        "                tfile.write(data)\n",
        "                done = int(50 * dl / int(total_length))\n",
        "                sys.stdout.write(f\"\\r[{'=' * done}{' ' * (50-done)}] {dl} bytes downloaded\")\n",
        "                sys.stdout.flush()\n",
        "                data = fileres.read(CHUNK_SIZE)\n",
        "            if filename.endswith('.zip'):\n",
        "              with ZipFile(tfile) as zfile:\n",
        "                zfile.extractall(destination_path)\n",
        "            else:\n",
        "              with tarfile.open(tfile.name) as tarfile:\n",
        "                tarfile.extractall(destination_path)\n",
        "            print(f'\\nDownloaded and uncompressed: {directory}')\n",
        "    except HTTPError as e:\n",
        "        print(f'Failed to load (likely expired) {download_url} to path {destination_path}')\n",
        "        continue\n",
        "    except OSError as e:\n",
        "        print(f'Failed to load {download_url} to path {destination_path}')\n",
        "        continue\n",
        "\n",
        "print('Data source import complete.')\n"
      ],
      "metadata": {
        "id": "Myn8trr1UyBw"
      },
      "cell_type": "code",
      "outputs": [],
      "execution_count": null
    },
    {
      "cell_type": "code",
      "source": [
        "import os\n",
        "for dirname, _, filenames in os.walk('/kaggle/input'):\n",
        "    for filename in filenames:\n",
        "        print(os.path.join(dirname, filename))"
      ],
      "metadata": {
        "_uuid": "8f2839f25d086af736a60e9eeb907d3b93b6e0e5",
        "_cell_guid": "b1076dfc-b9ad-4769-8c92-a6c4dae69d19",
        "execution": {
          "iopub.status.busy": "2024-07-17T14:51:00.186904Z",
          "iopub.execute_input": "2024-07-17T14:51:00.187262Z",
          "iopub.status.idle": "2024-07-17T14:51:00.229301Z",
          "shell.execute_reply.started": "2024-07-17T14:51:00.187235Z",
          "shell.execute_reply": "2024-07-17T14:51:00.22809Z"
        },
        "trusted": true,
        "id": "ENj0Y5j1UyBz"
      },
      "execution_count": null,
      "outputs": []
    },
    {
      "cell_type": "code",
      "source": [
        "import pandas as pd\n",
        "\n",
        "data_url = \"/kaggle/input/mental-health-depression-disorder-data/Mental health Depression disorder Data.xlsx\"\n",
        "df = pd.read_excel(data_url)\n",
        "print(df.head())"
      ],
      "metadata": {
        "execution": {
          "iopub.status.busy": "2024-07-17T14:58:53.728616Z",
          "iopub.execute_input": "2024-07-17T14:58:53.729784Z",
          "iopub.status.idle": "2024-07-17T14:58:59.850413Z",
          "shell.execute_reply.started": "2024-07-17T14:58:53.729742Z",
          "shell.execute_reply": "2024-07-17T14:58:59.849212Z"
        },
        "trusted": true,
        "id": "cjwoQoyIUyBz"
      },
      "execution_count": null,
      "outputs": []
    },
    {
      "cell_type": "code",
      "source": [
        "df.shape"
      ],
      "metadata": {
        "execution": {
          "iopub.status.busy": "2024-07-17T14:59:06.20001Z",
          "iopub.execute_input": "2024-07-17T14:59:06.200438Z",
          "iopub.status.idle": "2024-07-17T14:59:06.209399Z",
          "shell.execute_reply.started": "2024-07-17T14:59:06.200402Z",
          "shell.execute_reply": "2024-07-17T14:59:06.2078Z"
        },
        "trusted": true,
        "id": "oaF3sK80UyB0"
      },
      "execution_count": null,
      "outputs": []
    },
    {
      "cell_type": "code",
      "source": [
        "df.head()"
      ],
      "metadata": {
        "execution": {
          "iopub.status.busy": "2024-07-17T14:59:17.929285Z",
          "iopub.execute_input": "2024-07-17T14:59:17.9298Z",
          "iopub.status.idle": "2024-07-17T14:59:17.96208Z",
          "shell.execute_reply.started": "2024-07-17T14:59:17.929767Z",
          "shell.execute_reply": "2024-07-17T14:59:17.960985Z"
        },
        "trusted": true,
        "id": "O1djoUIjUyB0"
      },
      "execution_count": null,
      "outputs": []
    },
    {
      "cell_type": "code",
      "source": [
        "df.describe()"
      ],
      "metadata": {
        "execution": {
          "iopub.status.busy": "2024-07-17T14:59:51.386478Z",
          "iopub.execute_input": "2024-07-17T14:59:51.386907Z",
          "iopub.status.idle": "2024-07-17T14:59:51.433495Z",
          "shell.execute_reply.started": "2024-07-17T14:59:51.386874Z",
          "shell.execute_reply": "2024-07-17T14:59:51.432285Z"
        },
        "trusted": true,
        "id": "LTlCZ7VgUyB0"
      },
      "execution_count": null,
      "outputs": []
    },
    {
      "cell_type": "code",
      "source": [
        "df.info()"
      ],
      "metadata": {
        "execution": {
          "iopub.status.busy": "2024-07-17T15:00:00.356827Z",
          "iopub.execute_input": "2024-07-17T15:00:00.357243Z",
          "iopub.status.idle": "2024-07-17T15:00:00.37841Z",
          "shell.execute_reply.started": "2024-07-17T15:00:00.357207Z",
          "shell.execute_reply": "2024-07-17T15:00:00.377056Z"
        },
        "trusted": true,
        "id": "KJ9BEtS2UyB0"
      },
      "execution_count": null,
      "outputs": []
    },
    {
      "cell_type": "code",
      "source": [
        "df.isnull().sum()"
      ],
      "metadata": {
        "execution": {
          "iopub.status.busy": "2024-07-17T15:00:12.190347Z",
          "iopub.execute_input": "2024-07-17T15:00:12.190811Z",
          "iopub.status.idle": "2024-07-17T15:00:12.203977Z",
          "shell.execute_reply.started": "2024-07-17T15:00:12.190772Z",
          "shell.execute_reply": "2024-07-17T15:00:12.202421Z"
        },
        "trusted": true,
        "id": "rN64JN5uUyB1"
      },
      "execution_count": null,
      "outputs": []
    },
    {
      "cell_type": "code",
      "source": [
        "!pip install sweetviz"
      ],
      "metadata": {
        "execution": {
          "iopub.status.busy": "2024-07-17T15:01:37.439747Z",
          "iopub.execute_input": "2024-07-17T15:01:37.440921Z",
          "iopub.status.idle": "2024-07-17T15:01:52.278875Z",
          "shell.execute_reply.started": "2024-07-17T15:01:37.440869Z",
          "shell.execute_reply": "2024-07-17T15:01:52.277479Z"
        },
        "trusted": true,
        "id": "EiwMU2mGUyB1"
      },
      "execution_count": null,
      "outputs": []
    },
    {
      "cell_type": "code",
      "source": [
        "import sweetviz as sv\n",
        "\n",
        "# Generate the report\n",
        "report = sv.analyze(df)\n",
        "\n",
        "# Save the report to an HTML file\n",
        "report.show_html(\"Mental_Health_Disorder_Analysis.html\")\n",
        "\n",
        "# To display the report in a Jupyter Notebook\n",
        "report.show_notebook()"
      ],
      "metadata": {
        "execution": {
          "iopub.status.busy": "2024-07-17T15:02:18.402972Z",
          "iopub.execute_input": "2024-07-17T15:02:18.403362Z",
          "iopub.status.idle": "2024-07-17T15:02:25.990871Z",
          "shell.execute_reply.started": "2024-07-17T15:02:18.403332Z",
          "shell.execute_reply": "2024-07-17T15:02:25.989243Z"
        },
        "trusted": true,
        "id": "xyIDZY39UyB1"
      },
      "execution_count": null,
      "outputs": []
    }
  ]
}