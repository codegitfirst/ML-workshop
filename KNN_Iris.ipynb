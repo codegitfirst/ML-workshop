{
  "metadata": {
    "kernelspec": {
      "language": "python",
      "display_name": "Python 3",
      "name": "python3"
    },
    "language_info": {
      "name": "python",
      "version": "3.10.13",
      "mimetype": "text/x-python",
      "codemirror_mode": {
        "name": "ipython",
        "version": 3
      },
      "pygments_lexer": "ipython3",
      "nbconvert_exporter": "python",
      "file_extension": ".py"
    },
    "kaggle": {
      "accelerator": "none",
      "dataSources": [
        {
          "sourceId": 8671682,
          "sourceType": "datasetVersion",
          "datasetId": 5197119
        }
      ],
      "dockerImageVersionId": 30732,
      "isInternetEnabled": true,
      "language": "python",
      "sourceType": "notebook",
      "isGpuEnabled": false
    },
    "colab": {
      "name": "KNN - Iris",
      "provenance": [],
      "include_colab_link": true
    }
  },
  "nbformat_minor": 0,
  "nbformat": 4,
  "cells": [
    {
      "cell_type": "markdown",
      "metadata": {
        "id": "view-in-github",
        "colab_type": "text"
      },
      "source": [
        "<a href=\"https://colab.research.google.com/github/codegitfirst/ML-workshop/blob/main/KNN_Iris.ipynb\" target=\"_parent\"><img src=\"https://colab.research.google.com/assets/colab-badge.svg\" alt=\"Open In Colab\"/></a>"
      ]
    },
    {
      "source": [
        "\n",
        "# IMPORTANT: RUN THIS CELL IN ORDER TO IMPORT YOUR KAGGLE DATA SOURCES\n",
        "# TO THE CORRECT LOCATION (/kaggle/input) IN YOUR NOTEBOOK,\n",
        "# THEN FEEL FREE TO DELETE THIS CELL.\n",
        "# NOTE: THIS NOTEBOOK ENVIRONMENT DIFFERS FROM KAGGLE'S PYTHON\n",
        "# ENVIRONMENT SO THERE MAY BE MISSING LIBRARIES USED BY YOUR\n",
        "# NOTEBOOK.\n",
        "\n",
        "import os\n",
        "import sys\n",
        "from tempfile import NamedTemporaryFile\n",
        "from urllib.request import urlopen\n",
        "from urllib.parse import unquote, urlparse\n",
        "from urllib.error import HTTPError\n",
        "from zipfile import ZipFile\n",
        "import tarfile\n",
        "import shutil\n",
        "\n",
        "CHUNK_SIZE = 40960\n",
        "DATA_SOURCE_MAPPING = 'flowers-dataset-iris:https%3A%2F%2Fstorage.googleapis.com%2Fkaggle-data-sets%2F5197119%2F8671682%2Fbundle%2Farchive.zip%3FX-Goog-Algorithm%3DGOOG4-RSA-SHA256%26X-Goog-Credential%3Dgcp-kaggle-com%2540kaggle-161607.iam.gserviceaccount.com%252F20240729%252Fauto%252Fstorage%252Fgoog4_request%26X-Goog-Date%3D20240729T080237Z%26X-Goog-Expires%3D259200%26X-Goog-SignedHeaders%3Dhost%26X-Goog-Signature%3D233fb04eddee5a63289ce99b15202909a87b07bb4e76c0f3009c40791ef34299e7dc3490bf35a66a05e89c1303ab8bbc37a1a383b975174c59a77f1cb4135b3485ec0e9bfd548abf45b3b87440a765d0b22b78e9bfc5c345219458df0d644c1c2912f871bbe066d5e3aa41f691a6cbc6306bb476f2e1fa2aca4696f83c6d2addf9772218836bf3ad1ccc866d678c71ef749c81b65b474c63b9ece4c3dbfdad060fafe0d9747884dec27adfc416cce7206fb6dd59662de6ada0a3016497917ecb38da992022d7de52f07e19563134e65ea638d177e72c9d12de951c185eb3ec6dce9034b4ca0fb11bfece3fdb4bdd597c8f840c92bbc957aab52e07527ff3e54a'\n",
        "\n",
        "KAGGLE_INPUT_PATH='/kaggle/input'\n",
        "KAGGLE_WORKING_PATH='/kaggle/working'\n",
        "KAGGLE_SYMLINK='kaggle'\n",
        "\n",
        "!umount /kaggle/input/ 2> /dev/null\n",
        "shutil.rmtree('/kaggle/input', ignore_errors=True)\n",
        "os.makedirs(KAGGLE_INPUT_PATH, 0o777, exist_ok=True)\n",
        "os.makedirs(KAGGLE_WORKING_PATH, 0o777, exist_ok=True)\n",
        "\n",
        "try:\n",
        "  os.symlink(KAGGLE_INPUT_PATH, os.path.join(\"..\", 'input'), target_is_directory=True)\n",
        "except FileExistsError:\n",
        "  pass\n",
        "try:\n",
        "  os.symlink(KAGGLE_WORKING_PATH, os.path.join(\"..\", 'working'), target_is_directory=True)\n",
        "except FileExistsError:\n",
        "  pass\n",
        "\n",
        "for data_source_mapping in DATA_SOURCE_MAPPING.split(','):\n",
        "    directory, download_url_encoded = data_source_mapping.split(':')\n",
        "    download_url = unquote(download_url_encoded)\n",
        "    filename = urlparse(download_url).path\n",
        "    destination_path = os.path.join(KAGGLE_INPUT_PATH, directory)\n",
        "    try:\n",
        "        with urlopen(download_url) as fileres, NamedTemporaryFile() as tfile:\n",
        "            total_length = fileres.headers['content-length']\n",
        "            print(f'Downloading {directory}, {total_length} bytes compressed')\n",
        "            dl = 0\n",
        "            data = fileres.read(CHUNK_SIZE)\n",
        "            while len(data) > 0:\n",
        "                dl += len(data)\n",
        "                tfile.write(data)\n",
        "                done = int(50 * dl / int(total_length))\n",
        "                sys.stdout.write(f\"\\r[{'=' * done}{' ' * (50-done)}] {dl} bytes downloaded\")\n",
        "                sys.stdout.flush()\n",
        "                data = fileres.read(CHUNK_SIZE)\n",
        "            if filename.endswith('.zip'):\n",
        "              with ZipFile(tfile) as zfile:\n",
        "                zfile.extractall(destination_path)\n",
        "            else:\n",
        "              with tarfile.open(tfile.name) as tarfile:\n",
        "                tarfile.extractall(destination_path)\n",
        "            print(f'\\nDownloaded and uncompressed: {directory}')\n",
        "    except HTTPError as e:\n",
        "        print(f'Failed to load (likely expired) {download_url} to path {destination_path}')\n",
        "        continue\n",
        "    except OSError as e:\n",
        "        print(f'Failed to load {download_url} to path {destination_path}')\n",
        "        continue\n",
        "\n",
        "print('Data source import complete.')\n"
      ],
      "metadata": {
        "id": "tBkOiiB2VTlb"
      },
      "cell_type": "code",
      "outputs": [],
      "execution_count": null
    },
    {
      "cell_type": "markdown",
      "source": [
        "# K Nearest Neighbors - Iris"
      ],
      "metadata": {
        "id": "g5144aKQVTle"
      }
    },
    {
      "cell_type": "markdown",
      "source": [
        "### In this project, we will make predictions using KNN on a real data set using Scikit-Learn."
      ],
      "metadata": {
        "id": "_NeE-M9PVTlo"
      }
    },
    {
      "cell_type": "markdown",
      "source": [
        "## 1- Import Libraries & Dataset"
      ],
      "metadata": {
        "id": "9zD8PJVzVTlo"
      }
    },
    {
      "cell_type": "code",
      "source": [
        "import numpy as np # linear algebra\n",
        "import pandas as pd # data processing, CSV file I/O (e.g. pd.read_csv)\n",
        "import matplotlib.pyplot as plt\n",
        "import seaborn as sns\n",
        "import sklearn\n",
        "\n",
        "import warnings\n",
        "warnings.filterwarnings('ignore')\n",
        "\n",
        "import os\n",
        "for dirname, _, filenames in os.walk('/kaggle/input'):\n",
        "    for filename in filenames:\n",
        "        print(os.path.join(dirname, filename))\n"
      ],
      "metadata": {
        "_uuid": "8f2839f25d086af736a60e9eeb907d3b93b6e0e5",
        "_cell_guid": "b1076dfc-b9ad-4769-8c92-a6c4dae69d19",
        "execution": {
          "iopub.status.busy": "2024-06-12T12:13:57.872248Z",
          "iopub.execute_input": "2024-06-12T12:13:57.872826Z",
          "iopub.status.idle": "2024-06-12T12:14:01.088963Z",
          "shell.execute_reply.started": "2024-06-12T12:13:57.872778Z",
          "shell.execute_reply": "2024-06-12T12:14:01.087344Z"
        },
        "trusted": true,
        "id": "upd4xycZVTlo"
      },
      "execution_count": null,
      "outputs": []
    },
    {
      "cell_type": "code",
      "source": [
        "dataset = pd.read_csv('/kaggle/input/flowers-dataset-iris/iris.csv')"
      ],
      "metadata": {
        "execution": {
          "iopub.status.busy": "2024-06-12T12:14:01.091442Z",
          "iopub.execute_input": "2024-06-12T12:14:01.092479Z",
          "iopub.status.idle": "2024-06-12T12:14:01.20422Z",
          "shell.execute_reply.started": "2024-06-12T12:14:01.09242Z",
          "shell.execute_reply": "2024-06-12T12:14:01.202542Z"
        },
        "trusted": true,
        "id": "jAH7TSNaVTlp"
      },
      "execution_count": null,
      "outputs": []
    },
    {
      "cell_type": "code",
      "source": [
        "# veri icindeki adet (n -> satir sayısı) ve feature (p -> degisken sayisi)\n",
        "# shape -> (n, p)\n",
        "# n = 150\n",
        "# p = 4\n",
        "\n",
        "dataset.shape"
      ],
      "metadata": {
        "execution": {
          "iopub.status.busy": "2024-06-12T12:14:01.20574Z",
          "iopub.execute_input": "2024-06-12T12:14:01.206125Z",
          "iopub.status.idle": "2024-06-12T12:14:01.215115Z",
          "shell.execute_reply.started": "2024-06-12T12:14:01.206095Z",
          "shell.execute_reply": "2024-06-12T12:14:01.213402Z"
        },
        "trusted": true,
        "id": "olhWPXN1VTlp"
      },
      "execution_count": null,
      "outputs": []
    },
    {
      "cell_type": "code",
      "source": [
        "#ilk 7 satir\n",
        "dataset.head(7)"
      ],
      "metadata": {
        "execution": {
          "iopub.status.busy": "2024-06-12T12:14:42.081806Z",
          "iopub.execute_input": "2024-06-12T12:14:42.082341Z",
          "iopub.status.idle": "2024-06-12T12:14:42.117052Z",
          "shell.execute_reply.started": "2024-06-12T12:14:42.082302Z",
          "shell.execute_reply": "2024-06-12T12:14:42.115786Z"
        },
        "trusted": true,
        "id": "Eu11X0eaVTlp"
      },
      "execution_count": null,
      "outputs": []
    },
    {
      "cell_type": "code",
      "source": [
        "# basit istatistikler\n",
        "\n",
        "dataset.describe()"
      ],
      "metadata": {
        "execution": {
          "iopub.status.busy": "2024-06-12T12:14:42.720016Z",
          "iopub.execute_input": "2024-06-12T12:14:42.720536Z",
          "iopub.status.idle": "2024-06-12T12:14:42.757507Z",
          "shell.execute_reply.started": "2024-06-12T12:14:42.720491Z",
          "shell.execute_reply": "2024-06-12T12:14:42.756278Z"
        },
        "trusted": true,
        "id": "nvU28IrOVTlp"
      },
      "execution_count": null,
      "outputs": []
    },
    {
      "cell_type": "code",
      "source": [
        "# Her siniftan kac adet var\n",
        "dataset.groupby('Species').size()"
      ],
      "metadata": {
        "execution": {
          "iopub.status.busy": "2024-06-12T12:14:43.419198Z",
          "iopub.execute_input": "2024-06-12T12:14:43.419869Z",
          "iopub.status.idle": "2024-06-12T12:14:43.436529Z",
          "shell.execute_reply.started": "2024-06-12T12:14:43.419827Z",
          "shell.execute_reply": "2024-06-12T12:14:43.435101Z"
        },
        "trusted": true,
        "id": "o0OhJgRsVTlq"
      },
      "execution_count": null,
      "outputs": []
    },
    {
      "cell_type": "markdown",
      "source": [
        "## 2- Features and Labels"
      ],
      "metadata": {
        "id": "faYWsFt8VTlq"
      }
    },
    {
      "cell_type": "code",
      "source": [
        "# degisken sütunlari\n",
        "feature_columns = ['SepalLengthCm', 'SepalWidthCm', 'PetalLengthCm','PetalWidthCm']"
      ],
      "metadata": {
        "execution": {
          "iopub.status.busy": "2024-06-12T12:14:44.636605Z",
          "iopub.execute_input": "2024-06-12T12:14:44.637077Z",
          "iopub.status.idle": "2024-06-12T12:14:44.643792Z",
          "shell.execute_reply.started": "2024-06-12T12:14:44.637043Z",
          "shell.execute_reply": "2024-06-12T12:14:44.642241Z"
        },
        "trusted": true,
        "id": "MmuDDfqjVTlq"
      },
      "execution_count": null,
      "outputs": []
    },
    {
      "cell_type": "code",
      "source": [
        "# Feature Matris\n",
        "\n",
        "X= dataset[feature_columns].values\n",
        "X"
      ],
      "metadata": {
        "execution": {
          "iopub.status.busy": "2024-06-12T12:14:45.19258Z",
          "iopub.execute_input": "2024-06-12T12:14:45.194083Z",
          "iopub.status.idle": "2024-06-12T12:14:45.213675Z",
          "shell.execute_reply.started": "2024-06-12T12:14:45.194032Z",
          "shell.execute_reply": "2024-06-12T12:14:45.212389Z"
        },
        "trusted": true,
        "id": "gV5HpfoyVTlq"
      },
      "execution_count": null,
      "outputs": []
    },
    {
      "cell_type": "code",
      "source": [
        "# Labels Vektörü\n",
        "\n",
        "y=dataset['Species'].values\n",
        "y"
      ],
      "metadata": {
        "execution": {
          "iopub.status.busy": "2024-06-12T12:14:45.771501Z",
          "iopub.execute_input": "2024-06-12T12:14:45.771973Z",
          "iopub.status.idle": "2024-06-12T12:14:45.782739Z",
          "shell.execute_reply.started": "2024-06-12T12:14:45.771938Z",
          "shell.execute_reply": "2024-06-12T12:14:45.781271Z"
        },
        "trusted": true,
        "id": "duG-mL7CVTlq"
      },
      "execution_count": null,
      "outputs": []
    },
    {
      "cell_type": "markdown",
      "source": [
        "## 3- Label Encoding"
      ],
      "metadata": {
        "id": "KrIqqjb-VTlq"
      }
    },
    {
      "cell_type": "markdown",
      "source": [
        "Since the label column (y) is categorical, we have to encode this column.\n",
        "\n",
        "After Label Encode, the new values ​will be as follows:\n",
        "* Iris Setosa: 0\n",
        "* Iris Versicolour: 1\n",
        "* Iris Virginica: 2"
      ],
      "metadata": {
        "id": "NGGYW4v7VTlr"
      }
    },
    {
      "cell_type": "code",
      "source": [
        "# Scikit-Learn -> Labelenccoder\n",
        "from sklearn.preprocessing import LabelEncoder"
      ],
      "metadata": {
        "execution": {
          "iopub.status.busy": "2024-06-12T12:14:47.418268Z",
          "iopub.execute_input": "2024-06-12T12:14:47.418799Z",
          "iopub.status.idle": "2024-06-12T12:14:47.468041Z",
          "shell.execute_reply.started": "2024-06-12T12:14:47.41876Z",
          "shell.execute_reply": "2024-06-12T12:14:47.466644Z"
        },
        "trusted": true,
        "id": "_Vv5eVTjVTlr"
      },
      "execution_count": null,
      "outputs": []
    },
    {
      "cell_type": "code",
      "source": [
        "#Label Encoder\n",
        "le = LabelEncoder()"
      ],
      "metadata": {
        "execution": {
          "iopub.status.busy": "2024-06-12T12:14:48.003526Z",
          "iopub.execute_input": "2024-06-12T12:14:48.005516Z",
          "iopub.status.idle": "2024-06-12T12:14:48.01148Z",
          "shell.execute_reply.started": "2024-06-12T12:14:48.005456Z",
          "shell.execute_reply": "2024-06-12T12:14:48.010036Z"
        },
        "trusted": true,
        "id": "d0lOeeD4VTlr"
      },
      "execution_count": null,
      "outputs": []
    },
    {
      "cell_type": "code",
      "source": [
        "# encode etmeden önce y\n",
        "print('Iris-setosa:\\n', y[0:10])\n",
        "print('\\n')\n",
        "print('Iris-versicolour:\\n', y[50:60])\n",
        "print('\\n')\n",
        "print('Iris-virginica:\\n', y[100:110])"
      ],
      "metadata": {
        "execution": {
          "iopub.status.busy": "2024-06-12T12:14:48.570484Z",
          "iopub.execute_input": "2024-06-12T12:14:48.571744Z",
          "iopub.status.idle": "2024-06-12T12:14:48.579498Z",
          "shell.execute_reply.started": "2024-06-12T12:14:48.571685Z",
          "shell.execute_reply": "2024-06-12T12:14:48.578166Z"
        },
        "trusted": true,
        "id": "qVXx7dQWVTlr"
      },
      "execution_count": null,
      "outputs": []
    },
    {
      "cell_type": "code",
      "source": [
        "# simdi y yi encode et\n",
        "\n",
        "y = le.fit_transform(y)"
      ],
      "metadata": {
        "execution": {
          "iopub.status.busy": "2024-06-12T12:14:49.093369Z",
          "iopub.execute_input": "2024-06-12T12:14:49.094383Z",
          "iopub.status.idle": "2024-06-12T12:14:49.100451Z",
          "shell.execute_reply.started": "2024-06-12T12:14:49.094331Z",
          "shell.execute_reply": "2024-06-12T12:14:49.099072Z"
        },
        "trusted": true,
        "id": "5s5XetUMVTlr"
      },
      "execution_count": null,
      "outputs": []
    },
    {
      "cell_type": "code",
      "source": [
        "# encode ettikten sonra\n",
        "print('Iris-setosa:\\n', y[0:10])\n",
        "print('\\n')\n",
        "print('Iris-versicolour:\\n', y[50:60])\n",
        "print('\\n')\n",
        "print('Iris-virginica:\\n', y[100:110])"
      ],
      "metadata": {
        "execution": {
          "iopub.status.busy": "2024-06-12T12:14:49.540155Z",
          "iopub.execute_input": "2024-06-12T12:14:49.540685Z",
          "iopub.status.idle": "2024-06-12T12:14:49.548503Z",
          "shell.execute_reply.started": "2024-06-12T12:14:49.540648Z",
          "shell.execute_reply": "2024-06-12T12:14:49.547325Z"
        },
        "trusted": true,
        "id": "1hDvV3CqVTlr"
      },
      "execution_count": null,
      "outputs": []
    },
    {
      "cell_type": "markdown",
      "source": [
        "## 4- Train Test Split"
      ],
      "metadata": {
        "id": "_DK1_oFLVTlr"
      }
    },
    {
      "cell_type": "code",
      "source": [
        "from sklearn.model_selection import train_test_split"
      ],
      "metadata": {
        "execution": {
          "iopub.status.busy": "2024-06-12T12:14:50.475142Z",
          "iopub.execute_input": "2024-06-12T12:14:50.475687Z",
          "iopub.status.idle": "2024-06-12T12:14:50.618166Z",
          "shell.execute_reply.started": "2024-06-12T12:14:50.475644Z",
          "shell.execute_reply": "2024-06-12T12:14:50.616658Z"
        },
        "trusted": true,
        "id": "7Ds0xAg6VTlr"
      },
      "execution_count": null,
      "outputs": []
    },
    {
      "cell_type": "code",
      "source": [
        "# şimdi veriyi ayıralım\n",
        "# Train - Test  --->  %60 - %40\n",
        "X_train, X_test, y_train, y_test = train_test_split(X, y, test_size = 0.4, random_state = 4)"
      ],
      "metadata": {
        "execution": {
          "iopub.status.busy": "2024-06-12T12:14:50.988621Z",
          "iopub.execute_input": "2024-06-12T12:14:50.989995Z",
          "iopub.status.idle": "2024-06-12T12:14:50.999753Z",
          "shell.execute_reply.started": "2024-06-12T12:14:50.989938Z",
          "shell.execute_reply": "2024-06-12T12:14:50.997893Z"
        },
        "trusted": true,
        "id": "oBK6AyhIVTlr"
      },
      "execution_count": null,
      "outputs": []
    },
    {
      "cell_type": "code",
      "source": [
        "# Train Data sekli\n",
        "print('X_train:', X_train.shape)\n",
        "print('y_train:', y_train.shape)"
      ],
      "metadata": {
        "execution": {
          "iopub.status.busy": "2024-06-12T12:14:51.570356Z",
          "iopub.execute_input": "2024-06-12T12:14:51.571883Z",
          "iopub.status.idle": "2024-06-12T12:14:51.579483Z",
          "shell.execute_reply.started": "2024-06-12T12:14:51.571809Z",
          "shell.execute_reply": "2024-06-12T12:14:51.57799Z"
        },
        "trusted": true,
        "id": "_OP6Uq9CVTlr"
      },
      "execution_count": null,
      "outputs": []
    },
    {
      "cell_type": "code",
      "source": [
        "# Test data sekli\n",
        "\n",
        "print('X_test:', X_test.shape)\n",
        "print('y_test:', y_test.shape)"
      ],
      "metadata": {
        "execution": {
          "iopub.status.busy": "2024-06-12T12:14:52.218301Z",
          "iopub.execute_input": "2024-06-12T12:14:52.218915Z",
          "iopub.status.idle": "2024-06-12T12:14:52.225845Z",
          "shell.execute_reply.started": "2024-06-12T12:14:52.218867Z",
          "shell.execute_reply": "2024-06-12T12:14:52.224418Z"
        },
        "trusted": true,
        "id": "OxlewSBDVTls"
      },
      "execution_count": null,
      "outputs": []
    },
    {
      "cell_type": "markdown",
      "source": [
        "## 5 - Scaling"
      ],
      "metadata": {
        "id": "NSHk2zeFVTls"
      }
    },
    {
      "cell_type": "markdown",
      "source": [
        "**IMPORTANT:**\n",
        "\n",
        "Normally, we do `scaling` before performing any operation on the data. That is, we bring the variables to the same magnitude scale. (Usually between 0-1)\n",
        "\n",
        "But since all variables in this data set are in 'cm' and on the same scale, we do not need to do any scaling."
      ],
      "metadata": {
        "id": "G9MB5qVQVTls"
      }
    },
    {
      "cell_type": "markdown",
      "source": [
        "## 6 - Data Visualization"
      ],
      "metadata": {
        "id": "ph08WBF0VTls"
      }
    },
    {
      "cell_type": "markdown",
      "source": [
        "Since the number of variables in the data is more than 2, we cannot use a coordinate axis for visualization.\n",
        "\n",
        "So we will use pair-plot:"
      ],
      "metadata": {
        "id": "jzV_uKvOVTls"
      }
    },
    {
      "cell_type": "markdown",
      "source": [
        "#### Pairplot"
      ],
      "metadata": {
        "id": "Y6nVtrNFVTls"
      }
    },
    {
      "cell_type": "code",
      "source": [
        "plt.figure()\n",
        "sns.pairplot(dataset.drop(\"Id\", axis=1),\n",
        "            hue=\"Species\",\n",
        "            size = 3,\n",
        "            markers = [\"o\", \"s\", \"D\"])\n",
        "plt.show()"
      ],
      "metadata": {
        "execution": {
          "iopub.status.busy": "2024-06-12T12:14:55.647292Z",
          "iopub.execute_input": "2024-06-12T12:14:55.648518Z",
          "iopub.status.idle": "2024-06-12T12:15:02.65349Z",
          "shell.execute_reply.started": "2024-06-12T12:14:55.648477Z",
          "shell.execute_reply": "2024-06-12T12:15:02.651897Z"
        },
        "trusted": true,
        "id": "tVPm9j9XVTls"
      },
      "execution_count": null,
      "outputs": []
    },
    {
      "cell_type": "markdown",
      "source": [
        "### Box-Plot"
      ],
      "metadata": {
        "id": "p-coPjn4VTls"
      }
    },
    {
      "cell_type": "code",
      "source": [
        "plt.figure()\n",
        "dataset.drop(\"Id\", axis=1).boxplot(by = \"Species\", figsize=(15,10))\n",
        "plt.show()"
      ],
      "metadata": {
        "execution": {
          "iopub.status.busy": "2024-06-12T12:15:02.656071Z",
          "iopub.execute_input": "2024-06-12T12:15:02.656652Z",
          "iopub.status.idle": "2024-06-12T12:15:03.992946Z",
          "shell.execute_reply.started": "2024-06-12T12:15:02.656602Z",
          "shell.execute_reply": "2024-06-12T12:15:03.991724Z"
        },
        "trusted": true,
        "id": "JIRQRQjgVTls"
      },
      "execution_count": null,
      "outputs": []
    },
    {
      "cell_type": "markdown",
      "source": [
        "## 7 - Develope Model"
      ],
      "metadata": {
        "id": "quDG6i27VTls"
      }
    },
    {
      "cell_type": "code",
      "source": [
        "# kütüphaneleri Import et\n",
        "from sklearn.neighbors import KNeighborsClassifier"
      ],
      "metadata": {
        "execution": {
          "iopub.status.busy": "2024-06-12T12:15:03.994475Z",
          "iopub.execute_input": "2024-06-12T12:15:03.99487Z",
          "iopub.status.idle": "2024-06-12T12:15:04.196257Z",
          "shell.execute_reply.started": "2024-06-12T12:15:03.994839Z",
          "shell.execute_reply": "2024-06-12T12:15:04.194695Z"
        },
        "trusted": true,
        "id": "SMhOQknIVTls"
      },
      "execution_count": null,
      "outputs": []
    },
    {
      "cell_type": "code",
      "source": [
        "def sklearn_knn(train_data, label_data, test_data, k):\n",
        "\n",
        "    ## knn ile classifier olustur\n",
        "    knn= KNeighborsClassifier(n_neighbors=k)\n",
        "\n",
        "    # Train -> X_train\n",
        "    knn.fit(train_data, label_data)\n",
        "\n",
        "    #Predict -> X_test\n",
        "    predict_label = knn.predict(test_data)\n",
        "\n",
        "    #Return\n",
        "    return predict_label"
      ],
      "metadata": {
        "execution": {
          "iopub.status.busy": "2024-06-12T12:15:04.198815Z",
          "iopub.execute_input": "2024-06-12T12:15:04.1992Z",
          "iopub.status.idle": "2024-06-12T12:15:04.206811Z",
          "shell.execute_reply.started": "2024-06-12T12:15:04.19917Z",
          "shell.execute_reply": "2024-06-12T12:15:04.205364Z"
        },
        "trusted": true,
        "id": "mEkaoSQgVTls"
      },
      "execution_count": null,
      "outputs": []
    },
    {
      "cell_type": "markdown",
      "source": [
        "### Predict\n",
        "\n",
        "Now we have everything we need to make predictions.\n",
        "\n",
        "All we need to do is decide on the value of `K` and call the `sklearn_knn` function."
      ],
      "metadata": {
        "id": "Hbf3X8tnVTlt"
      }
    },
    {
      "cell_type": "code",
      "source": [
        "# sklearn_knn fonksiyonunu çağır ve tahmin değerlerini al\n",
        "# K = 3\n",
        "\n",
        "y_predict = sklearn_knn(X_train, y_train, X_test, 3)\n",
        "y_predict"
      ],
      "metadata": {
        "execution": {
          "iopub.status.busy": "2024-06-12T12:15:09.354926Z",
          "iopub.execute_input": "2024-06-12T12:15:09.355493Z",
          "iopub.status.idle": "2024-06-12T12:15:09.38092Z",
          "shell.execute_reply.started": "2024-06-12T12:15:09.355447Z",
          "shell.execute_reply": "2024-06-12T12:15:09.379083Z"
        },
        "trusted": true,
        "id": "3xN_xrnLVTlt"
      },
      "execution_count": null,
      "outputs": []
    },
    {
      "cell_type": "code",
      "source": [
        "y_predict.shape"
      ],
      "metadata": {
        "execution": {
          "iopub.status.busy": "2024-06-12T12:15:10.138299Z",
          "iopub.execute_input": "2024-06-12T12:15:10.138828Z",
          "iopub.status.idle": "2024-06-12T12:15:10.147257Z",
          "shell.execute_reply.started": "2024-06-12T12:15:10.138787Z",
          "shell.execute_reply": "2024-06-12T12:15:10.145859Z"
        },
        "trusted": true,
        "id": "QPKnJBb-VTlt"
      },
      "execution_count": null,
      "outputs": []
    },
    {
      "cell_type": "markdown",
      "source": [
        "## 8- Model Accuracy"
      ],
      "metadata": {
        "id": "x1PzdyKIVTlt"
      }
    },
    {
      "cell_type": "code",
      "source": [
        "# Dogruluk: Gerçek y değerleri (gerçek sınıflar) ile tahmin değerlerini karşılaştırma ile bulunur.\n",
        "def accuracy(test_labels, pred_labels):\n",
        "\n",
        "    #Dogru tahminlerin sayisini hesapla\n",
        "    correct = np.sum(test_labels == pred_labels)\n",
        "\n",
        "    #Toplam test data adedi\n",
        "    n = len(test_labels)\n",
        "\n",
        "    #accuracy -> dogruluk oranı = doğru tahmin / toplam test verisi\n",
        "    accur = correct / n\n",
        "\n",
        "    return accur"
      ],
      "metadata": {
        "execution": {
          "iopub.status.busy": "2024-06-12T12:15:11.674636Z",
          "iopub.execute_input": "2024-06-12T12:15:11.675045Z",
          "iopub.status.idle": "2024-06-12T12:15:11.682009Z",
          "shell.execute_reply.started": "2024-06-12T12:15:11.675016Z",
          "shell.execute_reply": "2024-06-12T12:15:11.680503Z"
        },
        "trusted": true,
        "id": "IIgQZzC-VTlu"
      },
      "execution_count": null,
      "outputs": []
    },
    {
      "cell_type": "code",
      "source": [
        "# şimdi accuracy fonksiyonunu kullanıp model doğruluğumuzu ölçelim\n",
        "\n",
        "accuracy(y_test, y_predict)"
      ],
      "metadata": {
        "execution": {
          "iopub.status.busy": "2024-06-12T12:15:12.438683Z",
          "iopub.execute_input": "2024-06-12T12:15:12.439095Z",
          "iopub.status.idle": "2024-06-12T12:15:12.447029Z",
          "shell.execute_reply.started": "2024-06-12T12:15:12.439062Z",
          "shell.execute_reply": "2024-06-12T12:15:12.445858Z"
        },
        "trusted": true,
        "id": "BPOov2TrVTlu"
      },
      "execution_count": null,
      "outputs": []
    },
    {
      "cell_type": "markdown",
      "source": [
        "Now let's get the accuracy rate with the standard scikit-learn function:"
      ],
      "metadata": {
        "id": "QMVpp--RVTlu"
      }
    },
    {
      "cell_type": "code",
      "source": [
        "from sklearn.metrics import accuracy_score"
      ],
      "metadata": {
        "execution": {
          "iopub.status.busy": "2024-06-12T12:15:14.169207Z",
          "iopub.execute_input": "2024-06-12T12:15:14.169715Z",
          "iopub.status.idle": "2024-06-12T12:15:14.175333Z",
          "shell.execute_reply.started": "2024-06-12T12:15:14.169679Z",
          "shell.execute_reply": "2024-06-12T12:15:14.173975Z"
        },
        "trusted": true,
        "id": "45AYQU-lVTlu"
      },
      "execution_count": null,
      "outputs": []
    },
    {
      "cell_type": "code",
      "source": [
        "accuracy_sklearn = accuracy_score(y_test, y_predict)*100"
      ],
      "metadata": {
        "execution": {
          "iopub.status.busy": "2024-06-12T12:15:18.13166Z",
          "iopub.execute_input": "2024-06-12T12:15:18.132196Z",
          "iopub.status.idle": "2024-06-12T12:15:18.13994Z",
          "shell.execute_reply.started": "2024-06-12T12:15:18.132161Z",
          "shell.execute_reply": "2024-06-12T12:15:18.138531Z"
        },
        "trusted": true,
        "id": "x8G0ySyoVTlu"
      },
      "execution_count": null,
      "outputs": []
    },
    {
      "cell_type": "code",
      "source": [
        "print('Model Doğruluğumuz (Accuracy) ' + str(round(accuracy_sklearn, 2)) + ' %.')"
      ],
      "metadata": {
        "execution": {
          "iopub.status.busy": "2024-06-12T12:15:18.722688Z",
          "iopub.execute_input": "2024-06-12T12:15:18.723135Z",
          "iopub.status.idle": "2024-06-12T12:15:18.729722Z",
          "shell.execute_reply.started": "2024-06-12T12:15:18.723095Z",
          "shell.execute_reply": "2024-06-12T12:15:18.728435Z"
        },
        "trusted": true,
        "id": "LKGbeYdFVTlu"
      },
      "execution_count": null,
      "outputs": []
    },
    {
      "cell_type": "markdown",
      "source": [
        "## 9 - K Value"
      ],
      "metadata": {
        "id": "rtUp6JW1VTlu"
      }
    },
    {
      "cell_type": "markdown",
      "source": [
        "`K` değerinin belirlemek için `Train-Test Data` üzerinde farklı `K` değerleri deneyip en uygun olana karar vermemiz lazım."
      ],
      "metadata": {
        "id": "tZRj_IQhVTlu"
      }
    },
    {
      "cell_type": "markdown",
      "source": [
        "### Genel Geçer Kabul:\n",
        "\n",
        "K değeri eldeki veri adedinin (n) karekökünden büyük olmamalı.\n"
      ],
      "metadata": {
        "id": "WCtJ1BFBVTlu"
      }
    },
    {
      "cell_type": "code",
      "source": [
        "n = len(dataset)\n",
        "n"
      ],
      "metadata": {
        "execution": {
          "iopub.status.busy": "2024-06-12T12:15:21.295915Z",
          "iopub.execute_input": "2024-06-12T12:15:21.29635Z",
          "iopub.status.idle": "2024-06-12T12:15:21.30461Z",
          "shell.execute_reply.started": "2024-06-12T12:15:21.296317Z",
          "shell.execute_reply": "2024-06-12T12:15:21.303013Z"
        },
        "trusted": true,
        "id": "KRQMjiy-VTlu"
      },
      "execution_count": null,
      "outputs": []
    },
    {
      "cell_type": "code",
      "source": [
        "import math\n",
        "k_max = math.sqrt(n)\n",
        "k_max"
      ],
      "metadata": {
        "execution": {
          "iopub.status.busy": "2024-06-12T12:15:23.06568Z",
          "iopub.execute_input": "2024-06-12T12:15:23.066722Z",
          "iopub.status.idle": "2024-06-12T12:15:23.07379Z",
          "shell.execute_reply.started": "2024-06-12T12:15:23.066677Z",
          "shell.execute_reply": "2024-06-12T12:15:23.072355Z"
        },
        "trusted": true,
        "id": "mox4e43mVTlu"
      },
      "execution_count": null,
      "outputs": []
    },
    {
      "cell_type": "markdown",
      "source": [
        "Buna göre K değeri maksimum 12 olmalıdır.\n",
        "\n",
        "Yani 1 ile 12 arasındaki değerleri tek tek kontrol edeceğiz.\n",
        "\n",
        "En iyi Accuracy'yi vereni alacağız."
      ],
      "metadata": {
        "id": "YUk_3gi6VTlu"
      }
    },
    {
      "cell_type": "code",
      "source": [
        "#  Accuracy oranları için bir liste yarat\n",
        "normal_accuracy = []\n",
        "\n",
        "#Olabilecek k degerleri\n",
        "k_value = range(1,13)\n",
        "\n",
        "# döngü ile tektek K degerlerine bak\n",
        "for k in k_value:\n",
        "    y_predict = sklearn_knn(X_train, y_train, X_test, k)\n",
        "    accur = accuracy_score(y_test, y_predict)\n",
        "    normal_accuracy.append(accur)"
      ],
      "metadata": {
        "execution": {
          "iopub.status.busy": "2024-06-12T12:15:24.542911Z",
          "iopub.execute_input": "2024-06-12T12:15:24.543329Z",
          "iopub.status.idle": "2024-06-12T12:15:24.642675Z",
          "shell.execute_reply.started": "2024-06-12T12:15:24.543298Z",
          "shell.execute_reply": "2024-06-12T12:15:24.641031Z"
        },
        "trusted": true,
        "id": "IyFOHRLuVTlv"
      },
      "execution_count": null,
      "outputs": []
    },
    {
      "cell_type": "code",
      "source": [
        "# Şimdi bu K değerlerine göre elde ettiğimiz Accuracy'leri çizelim\n",
        "\n",
        "plt.xlabel(\"k\")\n",
        "plt.ylabel(\"accuracy\")\n",
        "\n",
        "#grafik ciz\n",
        "plt.plot(k_value, normal_accuracy, c='g')\n",
        "\n",
        "# Izgara\n",
        "plt.grid(True)"
      ],
      "metadata": {
        "execution": {
          "iopub.status.busy": "2024-06-12T12:15:25.392277Z",
          "iopub.execute_input": "2024-06-12T12:15:25.393228Z",
          "iopub.status.idle": "2024-06-12T12:15:25.648013Z",
          "shell.execute_reply.started": "2024-06-12T12:15:25.393188Z",
          "shell.execute_reply": "2024-06-12T12:15:25.646667Z"
        },
        "trusted": true,
        "id": "Lo1eS6HVVTlv"
      },
      "execution_count": null,
      "outputs": []
    },
    {
      "cell_type": "markdown",
      "source": [
        "As you can see here, we achieved a certain increase as the k value increased.\n",
        "\n",
        "After `K=6`, the rest remained with the same accuracy.\n",
        "\n",
        "Therefore, we can say that the best K value for this data set is 6."
      ],
      "metadata": {
        "id": "_913G16CVTlv"
      }
    },
    {
      "cell_type": "code",
      "source": [
        "# K yi 12 ile sinirlamayip 1-30 arasi arayalim\n",
        "# Accuracy oranları için bir liste yarat\n",
        "normal_accuracy = []\n",
        "\n",
        "#olabilecek K degeri\n",
        "k_value = range(1,31)\n",
        "\n",
        "#döngü ile tek tek K degerlerine bak\n",
        "for k in  k_value:\n",
        "    y_predict = sklearn_knn(X_train, y_train, X_test, k)\n",
        "    accur = accuracy_score(y_test, y_predict)\n",
        "    normal_accuracy.append(accur)"
      ],
      "metadata": {
        "execution": {
          "iopub.status.busy": "2024-06-12T12:21:47.153449Z",
          "iopub.execute_input": "2024-06-12T12:21:47.154036Z",
          "iopub.status.idle": "2024-06-12T12:21:47.379386Z",
          "shell.execute_reply.started": "2024-06-12T12:21:47.153995Z",
          "shell.execute_reply": "2024-06-12T12:21:47.37816Z"
        },
        "trusted": true,
        "id": "44jvbnKpVTlv"
      },
      "execution_count": null,
      "outputs": []
    },
    {
      "cell_type": "code",
      "source": [
        "# simdi K degerlerine göre Accuracy degerleri cizelim\n",
        "\n",
        "plt.xlabel(\"k\")\n",
        "plt.ylabel(\"accuracy\")\n",
        "\n",
        "#grafik ciz\n",
        "plt.plot(k_value, normal_accuracy, c = 'g')\n",
        "\n",
        "#izgara\n",
        "plt.grid(True)\n",
        "\n",
        "plt.show()"
      ],
      "metadata": {
        "execution": {
          "iopub.status.busy": "2024-06-12T12:24:16.012889Z",
          "iopub.execute_input": "2024-06-12T12:24:16.013356Z",
          "iopub.status.idle": "2024-06-12T12:24:16.303298Z",
          "shell.execute_reply.started": "2024-06-12T12:24:16.013319Z",
          "shell.execute_reply": "2024-06-12T12:24:16.301975Z"
        },
        "trusted": true,
        "id": "dJoxeWvBVTlv"
      },
      "execution_count": null,
      "outputs": []
    },
    {
      "cell_type": "markdown",
      "source": [
        "We could not achieve any improvement after K=12.\n",
        "\n",
        "Even the Accuracy rate dropped."
      ],
      "metadata": {
        "id": "902xnYMiVTlv"
      }
    }
  ]
}